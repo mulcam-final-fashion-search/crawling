{
 "cells": [
  {
   "cell_type": "code",
   "execution_count": 1,
   "metadata": {},
   "outputs": [],
   "source": [
    "from selenium import webdriver\n",
    "from bs4 import BeautifulSoup\n",
    "from urllib.request import urlretrieve\n",
    "import urllib.request\n",
    "import os\n",
    "import requests\n",
    "import time\n",
    "from random import uniform\n",
    "import pandas as pd"
   ]
  },
  {
   "cell_type": "code",
   "execution_count": 2,
   "metadata": {},
   "outputs": [],
   "source": [
    "# chromedriver로 크롬 사이트 접속하기\n",
    "# 드라이버 경로는 본인 컴퓨터 경로로 수정해야함\n",
    "driver = webdriver.Chrome('./chromedriver_win32/chromedriver.exe')\n",
    "driver.implicitly_wait(3)\n",
    "# 네이버 쇼핑윈도 - 원피스 카테고리로 들어가기\n",
    "#driver.get('https://search.shopping.naver.com/search/category.nhn?pagingIndex=1&pagingSize=40&productSet=window&viewType=list&sort=rel&cat_id=50000807&frm=NVSHCAT')"
   ]
  },
  {
   "cell_type": "code",
   "execution_count": 3,
   "metadata": {},
   "outputs": [
    {
     "data": {
      "text/plain": [
       "5001"
      ]
     },
     "execution_count": 3,
     "metadata": {},
     "output_type": "execute_result"
    }
   ],
   "source": [
    "# csv 파일 가져오기\n",
    "import csv\n",
    "file='./0421_final_0.csv'#파일이름\n",
    "f = open(file,'rt')\n",
    "link_addr_file = csv.reader(f)\n",
    "link_list=[]\n",
    "for line in link_addr_file:\n",
    "    link_list.append(line[1])\n",
    "f.close()    \n",
    "len(link_list)"
   ]
  },
  {
   "cell_type": "code",
   "execution_count": 8,
   "metadata": {},
   "outputs": [
    {
     "name": "stdout",
     "output_type": "stream",
     "text": [
      "https://cr2.shopping.naver.com/adcr.nhn?x=u%2BEGWP3JZx6rqTrqG%2FZrNv%2F%2F%2Fw%3D%3Ds7XHqfdexVsFbS8kOXoK8GEDxF2FgNznSWFAPolIVqaJOAd36fUfE5rRttWA20s12YPhF9wNcgFLegflmI%2BDfUOK1rExdiD8XSOELtAYRuDyoSrIjZ5WhhEwvpHuTx%2F1i9DkSdMMHZTed4yrJke9hsF5BWcvuZaOzglhOCDGahMuJeXOkhoX%2FqDk5pI7YcQDsPUYVE3AZhjW%2F0mKndJmFeuFJNQgc8%2Br1kjs7PUqKA5llcn%2BHxHiMKYtViUf%2Bf6UX%2BNW9U730MjWu4XIlvq9yYWWYkHDWI15lHgDJLrSaQu2VFRv1zseclA2JKwuWzgQik5ctCvdPFYZJhmUhmhBB4AeGzu05vshy3fntmIljNNWZH7ThLQ7VlVaoMgw%2B6IPgRd4DFF%2F3Pw3kWvsusi47S542Yk%2FBQxE84gH9o0P5Hl9HAaGzDD%2FO%2F1pkRfI6rvjTCLxy7IDenRPDOeUQKAbmrptPH5cpNFdE9L0GpnfJQhRx5YQw8tXygH4xvVpOoSBzPgrJ9SjBh6K6B8cPlzqBNyHhKoH3GzEJI6jIbSQslCHYdUK3H0wwqvuRXloz8C2tO4hL6UcRKq0mHUehBPzSmVJ6tONEZ5HBPKGxIg9HWEZpqqldcm2PKHleNEMtkqAQgdQMIeVd6V28xABvt28NpSbAA8K1U4AyCK905KvQ%2B8A%3D&nv_mid=82445673148&cat_id=50000807\n",
      "https://cr2.shopping.naver.com/adcr.nhn?x=QCwPPpEqTb%2FHlpC5X%2FwJjv%2F%2F%2Fw%3D%3Dsrl0ltwafRR1QrKMTrMQNBXx3tXKMOLFBxLOLfdQNnmvOFHmlxem2N35mxzH%2BMQ4eu0CZBgb5Xd1axvhv2jCf1doIrijwQpK17dG4lP3vyf9KLHWLFn5dSldTDM8Rxhlvt8GwiNr2u50NfBoE4uPPBmjqzAI07v9t28ej8vJLVXmiOUNAnGevzZVY3sn3pFMYzLn1GkQIW24RX2U%2FDRX3j3%2BnkuUurV6qaKA4VzUpX4CGJRQHX9ThbHrbD0wiAZwLlr2MJibGuG71Ivr98%2FRFYS3cDQosRlq2vuVtmOyZFREXphqsGnp%2B8JGHjF5fyo7s8rxR7jWpWi5c%2BCHvAbKmml%2F6EvpWal94cPBR1usu%2Feh3ZDTOQU1a%2BD5K4I9Kf%2Bn%2B87jaMVgx6Cssm%2FJLtsbGaIC0xOMmct6P8L4NvhC6xrPbyxh9nnJDjG9lYKjNeYVD%2BeHA3xj%2F5CoDh%2Bg7TVEP8fGCtukxUYu8DjOehUP3Qm2bPiiHkBjRFUdZIVKQFl8domk37htJHRmciQyUu27KMbf2n6BOvBApFaujyCjb%2B4uJWk8MQKsNGf1KubF6z3WbETRWM7Dc35oPl7WluQmD0BnT%2FAwKsUIrWb2aFxz46OjYhNVM%2BNdec1hxtgYBZ3HSjKqTQmuQy5d7GDBrUH0X7Jek5RdBlVA34oJXVaELGsw%3D&nv_mid=82441184677&cat_id=50000807\n",
      "https://cr2.shopping.naver.com/adcr.nhn?x=INcOl385q2OR%2BWBdVjtQq%2F%2F%2F%2Fw%3D%3DsJPKhEJQ7kDdjCXl5yEa%2BYB78eMeYdxUJW%2Fb2mlIp9QkmGaALphf2HplbiD02daXel%2FW2lDtezNXTKahL0BRe03xZTJCLzF4QylrGahuiRBsYiuTQIKp3E8tZuF8y8I2OP14fN9k0fh%2BDC9UTx4i7qiQ6yRPz0Bok6MuLLO%2Fx%2FZA2s36wDtoWiifKNG5kGHHVaA5EyaSj0ONz81DjIZ%2B9XSn5L%2BZvsS5MC10waQo9XYCpei8o85zv7B9D37qqN1%2B%2BfOJL93eaXr53ufr%2FnRJ7cwX4Y2199gcDtbO7VfdoT6Uj500BXdqqjQByAgQrnbPO2NF4Y45yfOWXGT6PHESAKF%2F6EvpWal94cPBR1usu%2Feiqp8ApntE%2F4AfQpiYNkFPl87jaMVgx6Cssm%2FJLtsbGaNbLi%2BuY5GEaZy%2B462yPvWZH6WB%2FrV%2BCgJK3xs5uFsulCjH7XDdrOKChjAlFRPI79hYdKxm%2BPYVfTzIBzB740HA1IqZNwBumtwo3%2BeXuG5aaFBhZ0XChhS0Rni2lYqLern4NZA5yaBE8CYtfilq1PkGKgtsEc%2FEDlNMSljvvmOZEh2z2VXn4a9F5Tcn3GTnH8aXAtMHuZ25e6HUC0EDHdvIEsDIPdDGEg9oOj8VqZVviOjVPbnd1DRcOF4tnvZ8mfOFy%2BXHRYNUjFF3CAXMsHNw%3D&nv_mid=82445681856&cat_id=50000807\n",
      "https://cr2.shopping.naver.com/adcr.nhn?x=sMtR3oRcEYxgf%2FLuSmwaa%2F%2F%2F%2Fw%3D%3DsMpfw4d59Pi9ka48g7LrBq8FsMx%2BDAcrCOyADtDjgdLyNDkRsapSQ9Scq%2FU6NtLLNI4%2FgnZElMSyU11RCr8d8sNoIrijwQpK17dG4lP3vyf9KLHWLFn5dSldTDM8Rxhlvt8GwiNr2u50NfBoE4uPPBmjqzAI07v9t28ej8vJLVXmhOIXHB7p120MW%2BGMZXOvSsxc2zYePoVfN2CNscok8H3%2BnkuUurV6qaKA4VzUpX4CGJRQHX9ThbHrbD0wiAZwLlr2MJibGuG71Ivr98%2FRFYS3cDQosRlq2vuVtmOyZFREirAYyusZI%2F%2BX2yHtTKNI%2BBo5bEN9J2hiTPZPw2DPsBDzJVpeGMb5fPVWT34jhbyek9UsVG5IBJFu6ujSHoq2LosAN7T9O1FW0bGU1Ki%2FUKSabcNicLg6oIqiPH73ZNsHgNnFdZ1MuQBKcrg0NeaKNfXrpCLfwytZlc8vc0hnG8BYdKxm%2BPYVfTzIBzB740HCkVCtrn1CjOzrr4AFlX%2FfNFBhZ0XChhS0Rni2lYqLergBoRzW%2F%2BPwfd1eSjkCYbuDgM4V63MF1Hd2kQKfqq2VqYhIcxNYwGcswIctB0CGMvJPIwI0If1goUgxRVSLpCnw1TJCpud9XUawqlz2SA0wNU4%2BlfgpYPgtu3b3Kssm26B2i3FcX0CiwFgjBAl7yC9U%3D&nv_mid=82445678910&cat_id=50000807\n",
      "https://cr2.shopping.naver.com/adcr.nhn?x=YYFzDINHWwvEi0f19sggZv%2F%2F%2Fw%3D%3Ds2NNXcqVdXajhCzGLT8ytm9veTvBYThK5%2FZvbBT8otwaVYv5Xpxx%2F27EGEixJrqziuJ8e4YtlSxlD78AVYeveCGcIG2DWh3rzTJgqTYQ6lMoV4t3PHFa%2FaqSl%2FjWMxrkfW2jKVTpX%2B0B5J0g56Anp8IFGzCor7ZkwnY%2FyNXpc1Nk4wvuP3xPvKGQE%2Bi1NkoF%2BKmL4jiawPFXG%2F7jH8njficzkB8UHJ5dZ4ts%2F7kKgMaRjOcsEzW75A1KuNN29x65jr9UKO3zNyf3v1YZ4%2BSY0Hj70eUtzBzAvuV%2FSEH06pBqs5EB0tw7FC4pv1S0bV7qt%2FmpwYmWhT2oSs6hOYx32vHMGUelY0TTx7TgKTNQ%2FbMZwqpgJ9Yc0cKP7UkVvMVTkv1RALbplS1ufDYaWbpUTsfJPvCEYcnlocOjzfIUAPc383owsFhcqxS4eTRIkMTpdMv1KHGSHT7vyvyRxRw51n5Yc70e2l8ZVAe1H5XMRKdZ%2BmhBrdeaUw8rchY1KzlmRiXTbQIJkhKxEum044Kssg%2FbPfq4X81%2BAKis6%2BrECytOnUxj2XljwF%2FqKi3L0sX7smah8qX%2FLpWH44H%2BGgioqD8donLdmRXNIpiqHv7meUCOgforCWrUdD1%2FeL%2F8lSl13dN6N%2F4AymIe4lKRt9JADEZH4v4mSPPbbK%2B7G5GpiuIA%3D&nv_mid=82445678176&cat_id=50000807\n",
      "상품정보 가져오기 오류발생\n"
     ]
    }
   ],
   "source": [
    "#상세 페이지 들어가서 원하는 정보 저장\n",
    "data_list = pd.DataFrame()\n",
    "#link_list 에서 범위 조정 가능\n",
    "for i in link_list:    \n",
    "    driver.get(i)\n",
    "    print(i)\n",
    "    \n",
    "    f = uniform(1.5, 1.7)\n",
    "    time.sleep(f)\n",
    "\n",
    "    a = \"\"\n",
    "    a = i.split(\"_mid=\")\n",
    "    a[1][0:11]\n",
    "    link = i\n",
    "\n",
    "    \n",
    "    html = driver.page_source\n",
    "    soup = BeautifulSoup(html, 'html.parser') \n",
    "\n",
    "    try:\n",
    "        images = soup.select('div._396uGDX0Fi > img')\n",
    "        name = soup.find('h3','_2IA5sp7BRM').get_text()\n",
    "        fit = driver.find_element_by_css_selector('div._1Hbih69XFT > div:nth-child(4) > table > tbody > tr:nth-child(1) > td:nth-child(2)').text        \n",
    "        sleeve = driver.find_element_by_css_selector('div._1Hbih69XFT > div:nth-child(4) > table > tbody > tr:nth-child(2) > td:nth-child(2)').text\n",
    "        length = driver.find_element_by_css_selector('div._1Hbih69XFT > div:nth-child(4) > table > tbody > tr:nth-child(3) > td:nth-child(2)').text\n",
    "        pattern = driver.find_element_by_css_selector('div._1Hbih69XFT > div:nth-child(4) > table > tbody > tr:nth-child(4) > td:nth-child(2)').text\n",
    "        material = driver.find_element_by_css_selector('div._1Hbih69XFT > div:nth-child(4) > table > tbody > tr:nth-child(1) > td:nth-child(4)').text\n",
    "        neckline = driver.find_element_by_css_selector('div._1Hbih69XFT > div:nth-child(4) > table > tbody > tr:nth-child(2) > td:nth-child(4)').text\n",
    "        skirt = driver.find_element_by_css_selector('div._1Hbih69XFT > div:nth-child(4) > table > tbody > tr:nth-child(3) > td:nth-child(4)').text\n",
    "        detail = driver.find_element_by_css_selector('div._1Hbih69XFT > div:nth-child(4) > table > tbody > tr:nth-child(4) > td:nth-child(4)').text\n",
    "        \n",
    "#         price = soup.find('span','_1dpDPg-OQb').get_text()\n",
    "#         tag=soup.find('div','_24FKuaBdoK').get_text()\n",
    "#         info = [soup.find_all('th','_15qeGNn6Dt')[n].string for n in range(0,20)]\n",
    "#         detail = [soup.find_all('td','jvlKiI0U_y')[n].string for n in range(0,20)]\n",
    "#         texts = soup.find_all('p', 'se_textarea')\n",
    "\n",
    "        if not os.path.isdir(\"./one/\"):\n",
    "            os.mkdir(\"./one/\")     \n",
    "        for image in images:\n",
    "\n",
    "            src_page = requests.get(image['src'], headers={\"Referer\":\"https://www.naver.com/\"})\n",
    "            src_image = src_page.content\n",
    "            with open(\"./one/img_\"+a[1][0:11]+'_'+str(images.index(image))+\".png\", \"wb\") as downfile:\n",
    "                downfile.write(src_image)\n",
    "            f = uniform(0.4, 0.6)    \n",
    "            time.sleep(f)\n",
    "#         for text in texts:\n",
    "#             text_list.append(text.get_text().strip().replace(u'\\xa0', u' '))\n",
    "#             text_list2 = [zz for zz in text_list if zz]\n",
    "\n",
    "        # 긁어올 카테고리 명을 입력하세요     \n",
    "        data_1 = {'name': [name], 'link': [link], 'fit': [fit], 'sleeve': [sleeve], 'length': [length], 'pattern': [pattern], \n",
    "                  'material': [material], 'neckline': [neckline], 'skirt': [skirt], 'detail': [detail], 'imagefile':[\"img_\"+a[1][0:11]+'_'+str(images.index(image))+\".png\"]}\n",
    "\n",
    "    \n",
    "#         data_1 = ({'name': [name], 'link': [link], 'fit': [fit], 'sleeve': [sleeve], 'length': [length],\n",
    "#                   'pattern': [pattern], 'material': [material], 'neckline': [neckline], 'skirt': [skirt], 'detail': [detail]})\n",
    "        df1 = pd.DataFrame(data_1)\n",
    "        \n",
    "#         data_2 = [detail]\n",
    "#         df2 = pd.DataFrame(data_2, columns = info)\n",
    "\n",
    "        data_list= pd.concat([data_list,df1], axis=0)\n",
    "\n",
    "        df1.to_csv(\"./one/csv_\"+a[1][0:11]+\".csv\", index = True, encoding='utf-8-sig')\n",
    "    except:\n",
    "        print(\"상품정보 가져오기 오류발생\")\n",
    "        pass\n",
    "data_list.to_csv(file[0:-3]+\"_list.csv\", index=True, encoding='utf-8-sig')\n"
   ]
  },
  {
   "cell_type": "code",
   "execution_count": null,
   "metadata": {},
   "outputs": [],
   "source": []
  }
 ],
 "metadata": {
  "kernelspec": {
   "display_name": "Python 3",
   "language": "python",
   "name": "python3"
  },
  "language_info": {
   "codemirror_mode": {
    "name": "ipython",
    "version": 3
   },
   "file_extension": ".py",
   "mimetype": "text/x-python",
   "name": "python",
   "nbconvert_exporter": "python",
   "pygments_lexer": "ipython3",
   "version": "3.6.10"
  }
 },
 "nbformat": 4,
 "nbformat_minor": 2
}
